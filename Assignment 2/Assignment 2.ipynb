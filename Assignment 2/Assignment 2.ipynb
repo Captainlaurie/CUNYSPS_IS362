{
 "cells": [
  {
   "cell_type": "code",
   "execution_count": 4,
   "id": "03864411",
   "metadata": {},
   "outputs": [
    {
     "name": "stdout",
     "output_type": "stream",
     "text": [
      "The existing list is:\n",
      "[1, 2, 3, 4, 5, 6, 7, 8, 9, 10]\n",
      "The Newly Created set is:\n",
      "{3, 6, 9, 12, 15, 18, 21, 24, 27, 30}\n"
     ]
    }
   ],
   "source": [
    "## Running Code or text\n",
    "\n",
    "#Something I find confusing about data structures is set comprehensions.\n",
    "#Example:\n",
    "    \n",
    "myList = [1, 2, 3, 4, 5, 6, 7, 8, 9, 10]\n",
    "newSet = {element*3 for element in myList}\n",
    "print(\"The existing list is:\")\n",
    "print(myList)\n",
    "print(\"The Newly Created set is:\")\n",
    "print(newSet)\n"
   ]
  },
  {
   "cell_type": "markdown",
   "id": "86c71b9a",
   "metadata": {},
   "source": [
    "## Markdown\n",
    "### Is this necessary?\n",
    "\n",
    "To be honest, the above example of set comprehehsions makes sense to me, but the assignment said we needed code. So there's some code! The assignment was very vague but said we also needed some __documentation in markdown__ so I'm putting this in here also.\n",
    "\n",
    "I get that markdown cells contain text, but __why__ would this be useful? *Why would you need text cells in Python?* Is it just for presentation? Seems like you could document everything with comments instead.\n",
    "\n",
    "Below this is a line:\n",
    "\n",
    "*******************************\n",
    "\n",
    "\n",
    "> This is an indented quote. \n",
    "\n",
    "Here are some UTF-8 shapes:\n",
    "\n",
    "<p>A Square with lines in it: &#9640;</p>\n",
    "\n",
    "<p>A fisheye: &#9673;</p>\n",
    "\n",
    "<font color=red>Here is some red text for no reason.</font> \n",
    "\n"
   ]
  },
  {
   "cell_type": "markdown",
   "id": "1923e6d5",
   "metadata": {},
   "source": []
  }
 ],
 "metadata": {
  "kernelspec": {
   "display_name": "Python 3 (ipykernel)",
   "language": "python",
   "name": "python3"
  },
  "language_info": {
   "codemirror_mode": {
    "name": "ipython",
    "version": 3
   },
   "file_extension": ".py",
   "mimetype": "text/x-python",
   "name": "python",
   "nbconvert_exporter": "python",
   "pygments_lexer": "ipython3",
   "version": "3.9.13"
  }
 },
 "nbformat": 4,
 "nbformat_minor": 5
}
