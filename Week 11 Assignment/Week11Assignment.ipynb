{
 "cells": [
  {
   "cell_type": "markdown",
   "id": "8b23da50",
   "metadata": {},
   "source": [
    "## NYT Books API\n",
    "\n",
    "This code will retrieve the current hardcover fiction bestsellers from the New York Times Books API and create a Pandas DataFrame with the book titles, authors, descriptions, etc."
   ]
  },
  {
   "cell_type": "code",
   "execution_count": 12,
   "id": "f6e24c97",
   "metadata": {},
   "outputs": [
    {
     "name": "stdout",
     "output_type": "stream",
     "text": [
      "   rank  rank_last_week  weeks_on_list  asterisk  dagger primary_isbn10  \\\n",
      "0     1               1             48         0       0     038554734X   \n",
      "1     2               0              1         0       0     0063020890   \n",
      "2     3               0              1         0       0     0399590943   \n",
      "3     4               2              2         0       0     1501117297   \n",
      "4     5               5             28         0       0     0593321200   \n",
      "\n",
      "  primary_isbn13     publisher  \\\n",
      "0  9780385547345     Doubleday   \n",
      "1  9780063020894       Mariner   \n",
      "2  9780399590948  Random House   \n",
      "3  9781501117299      Scribner   \n",
      "4  9780593321201         Knopf   \n",
      "\n",
      "                                         description price  ...  \\\n",
      "0  A scientist and single mother living in Califo...  0.00  ...   \n",
      "1  An unemployed journalist connects events in a ...  0.00  ...   \n",
      "2  A late-night show’s sketch writer may become i...  0.00  ...   \n",
      "3  Nine years after being cast out, a young woman...  0.00  ...   \n",
      "4  Two friends find their partnership challenged ...  0.00  ...   \n",
      "\n",
      "  book_image_height                                 amazon_product_url  \\\n",
      "0               500  https://www.amazon.com/dp/038554734X?tag=NYTBS...   \n",
      "1               500  https://www.amazon.com/dp/0063020890?tag=NYTBS...   \n",
      "2               500  https://www.amazon.com/dp/0399590943?tag=NYTBS...   \n",
      "3               500  https://www.amazon.com/dp/1501117297?tag=NYTBS...   \n",
      "4               500  https://www.amazon.com/dp/0593321200?tag=NYTBS...   \n",
      "\n",
      "  age_group book_review_link first_chapter_link  sunday_review_link  \\\n",
      "0                                                                     \n",
      "1                                                                     \n",
      "2                                                                     \n",
      "3                                                                     \n",
      "4                                                                     \n",
      "\n",
      "   article_chapter_link                                              isbns  \\\n",
      "0                        [{'isbn10': '038554734X', 'isbn13': '978038554...   \n",
      "1                        [{'isbn10': '0063020890', 'isbn13': '978006302...   \n",
      "2                        [{'isbn10': '0399590943', 'isbn13': '978039959...   \n",
      "3                        [{'isbn10': '1501117297', 'isbn13': '978150111...   \n",
      "4                        [{'isbn10': '0593321200', 'isbn13': '978059332...   \n",
      "\n",
      "                                           buy_links  \\\n",
      "0  [{'name': 'Amazon', 'url': 'https://www.amazon...   \n",
      "1  [{'name': 'Amazon', 'url': 'https://www.amazon...   \n",
      "2  [{'name': 'Amazon', 'url': 'https://www.amazon...   \n",
      "3  [{'name': 'Amazon', 'url': 'https://www.amazon...   \n",
      "4  [{'name': 'Amazon', 'url': 'https://www.amazon...   \n",
      "\n",
      "                                          book_uri  \n",
      "0  nyt://book/717e0ead-9782-567d-af27-d9a6cfb1856f  \n",
      "1  nyt://book/4fa8934d-8510-561e-8392-8c16adc415c5  \n",
      "2  nyt://book/a261a633-46c6-5d46-9b84-d08acc481b1c  \n",
      "3  nyt://book/29d99d62-a7ef-5d5f-b838-eaa86c77691a  \n",
      "4  nyt://book/bc07e3e3-e917-50bb-9439-70118335f40c  \n",
      "\n",
      "[5 rows x 26 columns]\n"
     ]
    }
   ],
   "source": [
    "import pandas as pd\n",
    "import requests\n",
    "import json as json\n",
    "\n",
    "#Set the API endpoint URL and your API key\n",
    "url = \"https://api.nytimes.com/svc/books/v3/lists/current/hardcover-fiction.json\"\n",
    "api_key = \"h8BpSrAUVAnQs0vAnSTkNuX1g0BdLOnJ\"\n",
    "\n",
    "#Make the API request and parse the JSON response\n",
    "response = requests.get(url, params={\"api-key\": api_key})\n",
    "if response.status_code == 200:\n",
    "    data = response.json()\n",
    "else:\n",
    "    print(\"Error retrieving data from API\")\n",
    "\n",
    "#Extract the list of books from the JSON response and create a Pandas DataFrame\n",
    "books = data[\"results\"][\"books\"]\n",
    "nytbooksdf = pd.DataFrame.from_records(books)\n",
    "\n",
    "#Display the dataframe\n",
    "print(nytbooksdf.head())\n"
   ]
  },
  {
   "cell_type": "markdown",
   "id": "a3fb574d",
   "metadata": {},
   "source": [
    "### There is a ton of information in the above Dataframe, so let's just get some essential columns and put them in a smaller dataframe\n",
    "\n",
    "We can do this using .loc"
   ]
  },
  {
   "cell_type": "code",
   "execution_count": 20,
   "id": "ff6c2c46",
   "metadata": {},
   "outputs": [
    {
     "name": "stdout",
     "output_type": "stream",
     "text": [
      "   rank  rank_last_week  weeks_on_list                                 title  \\\n",
      "0     1               1             48                  LESSONS IN CHEMISTRY   \n",
      "1     2               0              1                            HOMECOMING   \n",
      "2     3               0              1                       ROMANTIC COMEDY   \n",
      "3     4               2              2                         HANG THE MOON   \n",
      "4     5               5             28  TOMORROW, AND TOMORROW, AND TOMORROW   \n",
      "\n",
      "              author     publisher  \\\n",
      "0      Bonnie Garmus     Doubleday   \n",
      "1        Kate Morton       Mariner   \n",
      "2  Curtis Sittenfeld  Random House   \n",
      "3    Jeannette Walls      Scribner   \n",
      "4    Gabrielle Zevin         Knopf   \n",
      "\n",
      "                                         description  \n",
      "0  A scientist and single mother living in Califo...  \n",
      "1  An unemployed journalist connects events in a ...  \n",
      "2  A late-night show’s sketch writer may become i...  \n",
      "3  Nine years after being cast out, a young woman...  \n",
      "4  Two friends find their partnership challenged ...  \n"
     ]
    }
   ],
   "source": [
    "#Choose the columns we want in the new df\n",
    "selected_columns = ['rank', 'rank_last_week', 'weeks_on_list', 'title', 'author', 'publisher', 'description']\n",
    "nytbk_df_selected = nytbooksdf.loc[:, selected_columns]\n",
    "\n",
    "# Display the DataFrame\n",
    "print(nytbk_df_selected.head())"
   ]
  },
  {
   "cell_type": "code",
   "execution_count": null,
   "id": "54242281",
   "metadata": {},
   "outputs": [],
   "source": []
  }
 ],
 "metadata": {
  "kernelspec": {
   "display_name": "Python 3",
   "language": "python",
   "name": "python3"
  },
  "language_info": {
   "codemirror_mode": {
    "name": "ipython",
    "version": 3
   },
   "file_extension": ".py",
   "mimetype": "text/x-python",
   "name": "python",
   "nbconvert_exporter": "python",
   "pygments_lexer": "ipython3",
   "version": "3.8.10"
  }
 },
 "nbformat": 4,
 "nbformat_minor": 5
}
