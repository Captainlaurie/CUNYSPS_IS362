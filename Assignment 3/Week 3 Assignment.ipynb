{
 "cells": [
  {
   "cell_type": "code",
   "execution_count": 1,
   "id": "f9a824ea",
   "metadata": {},
   "outputs": [
    {
     "name": "stdout",
     "output_type": "stream",
     "text": [
      "Daily Miles: \n",
      "0     55\n",
      "1     65\n",
      "2     70\n",
      "3     68\n",
      "4     59\n",
      "5     72\n",
      "6     75\n",
      "7     66\n",
      "8     68\n",
      "9     67\n",
      "10    71\n",
      "11    65\n",
      "12    66\n",
      "13    73\n",
      "14    75\n",
      "15    74\n",
      "16    69\n",
      "17    74\n",
      "18    73\n",
      "19    71\n",
      "20    73\n",
      "21    34\n",
      "dtype: int64\n"
     ]
    }
   ],
   "source": [
    "import pandas as pd\n",
    "import numpy as np\n",
    "\n",
    "#Create an array with NumPy to store the miles\n",
    "#Google Maps says it's 1483 miles from NYC to the Ft. Meyers - Key West ferry\n",
    "#I'm assuming a max of 75 miles/day which would take over 20 days\n",
    "\n",
    "cumulativeMiles = np.array([55, 120, 190, 258, 317, 389, 464, 530, 598, 665, 736, 801, 867, 940, 1015, 1089, 1158, 1232, 1305, 1376, 1449, 1483])\n",
    "\n",
    "\n",
    "#Convert NumPy cumulative miles array to pandas series\n",
    "\n",
    "cumulativeMileSeries = pd.Series(cumulativeMiles)\n",
    "\n",
    "\n",
    "#Create new array to store each miles for each day\n",
    "\n",
    "dailyMiles = np.array([cumulativeMileSeries[0]])\n",
    "\n",
    "#iteration through the series to subtract previous day's miles from each cumulative mile number\n",
    "\n",
    "for x in range(1, len(cumulativeMileSeries)):\n",
    "    \n",
    "    dailyMiles = np.append(dailyMiles, cumulativeMileSeries[x] - cumulativeMileSeries[x-1])\n",
    "    \n",
    "#Take the new array and convert into a pandas series and print\n",
    "\n",
    "print(\"Daily Miles: \")\n",
    "print(pd.Series(dailyMiles))\n",
    "\n"
   ]
  },
  {
   "cell_type": "code",
   "execution_count": null,
   "id": "1146a11f",
   "metadata": {},
   "outputs": [],
   "source": []
  }
 ],
 "metadata": {
  "kernelspec": {
   "display_name": "Python 3",
   "language": "python",
   "name": "python3"
  },
  "language_info": {
   "codemirror_mode": {
    "name": "ipython",
    "version": 3
   },
   "file_extension": ".py",
   "mimetype": "text/x-python",
   "name": "python",
   "nbconvert_exporter": "python",
   "pygments_lexer": "ipython3",
   "version": "3.8.10"
  }
 },
 "nbformat": 4,
 "nbformat_minor": 5
}
