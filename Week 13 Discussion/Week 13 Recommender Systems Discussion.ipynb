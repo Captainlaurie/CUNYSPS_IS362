{
 "cells": [
  {
   "cell_type": "markdown",
   "id": "1e8e7e1c",
   "metadata": {},
   "source": [
    "## TikTok Recommender System Analysis\n",
    "\n",
    "The TikTok Algorithm is considered one of the most accurate, advanced content-based social media algorithms currently in use. Let's take a look at what makes this a successful recommender system.\n",
    "\n",
    "### Company Goals: \n",
    "\"There are four main goals for TikTok’s algorithm: 用户价值, 用户价值 (长期), 作者价值, and 平台价值, which the company translates as 'user value,' 'long-term user value,' 'creator value,' and 'platform value'\"(Smith, 2021)\n",
    "\n",
    "### 1. Scenario Design Analysis:\n",
    "1. Who are your target users?\n",
    "Target users can be split into two groups: content creators and audience.\n",
    "\n",
    "Audience: anyone who enjoys watching videos, but especially the 18-34 year age group.\n",
    "Content creators: those whose job (or hobby) is creating original content to be shown to the audience.\n",
    "\n",
    "2. What are their key goals?\n",
    "Users' key goals depend on whether they are creators or viewers. The key goals of the audience are entertainment and community, and engagement with content that interests them. Content creators' key goals are to create videos that viewers enjoy and engage with via likes, shares, comments, etc, which causes the algorithm to show the video to more people.\n",
    "\n",
    "3. How can you help them accomplish these goals?\n",
    "TikTok accomplishes these goals by giving users a personalized \"for you\" video feed consisting of recommended content dependent on the user's interactions. Users can interact with the videos on the feed in various ways to affect the algorithm. Liking, comments, sharing, watching a video all the way through to the end, repeat views, and content searches are all ways that users can influence their \"for you\" recommendations. There is also a \"not interested\" option for when a video is recommended that the user does not enjoy or find relevant to their interests. Users can also purchase in-app currency (\"coins\") with real money, and use these coins to send \"gifts\" to their favorite creators during livestreams. This boosts engagement and makes viewers feel connected with creators.\n",
    "For content creators, TikTok has resources such as the Creator Fund, which pays money to eligible creators. Additionally, gifts sent to creators from their audience are redeemable for cash (at a lower rate than the amount the user paid for the gift). TikTok also provides prompts, events, and filters for both creator and user participation to aid in the creation of content and the overall interaction with the app.\n",
    "\n",
    "### 2. Reverse Engineering\n",
    "Creating a new account, a user enters only their birth date. This is likely used to recommend content based on age group. A new user is shown various videos on the \"For You\" page. I created a new account (I already have one where I have curated content relevant to my interests) and was able to begin changing the content showed on the For You page. I interacted postiviely via likes only with cooking videos and animal/pet videos and selected \"not interested\" to anything else. As a result, the algorithm showed me more cooking and pet videos, as well as related animal content and home improvement (likely because users who like cooking videos also tend to enjoy content related to home improvement and kitchen upgrades).\n",
    "\n",
    "### 3. Improvement Suggestions\n",
    "A main way that TikTok could improve their recommender system is to put an AI language model in place to recognize and flag incidences of radicalization, review the content, and suspend the accounts responsible if they are found to be purposefully distributing misinformation. The algorithm has been shown to lead users \"down far-right rabbit holes\" when they engage with transphobic or far-right extremist content (Little, et al, 2021)."
   ]
  },
  {
   "cell_type": "markdown",
   "id": "23c9c01c",
   "metadata": {},
   "source": [
    "### References:\n",
    "\n",
    "Little, O., &amp; Richards, A. (2021, October 5). TikTok's algorithm leads users from transphobic videos to far-right rabbit holes. Media Matters for America. Retrieved May 4, 2023, from https://www.mediamatters.org/tiktok/tiktoks-algorithm-leads-users-transphobic-videos-far-right-rabbit-holes \n",
    "\n",
    "Smith, B. (2021, December 6). How tiktok reads your mind. The New York Times. Retrieved May 4, 2023, from https://www.nytimes.com/2021/12/05/business/media/tiktok-algorithm.html "
   ]
  }
 ],
 "metadata": {
  "kernelspec": {
   "display_name": "Python 3 (ipykernel)",
   "language": "python",
   "name": "python3"
  },
  "language_info": {
   "codemirror_mode": {
    "name": "ipython",
    "version": 3
   },
   "file_extension": ".py",
   "mimetype": "text/x-python",
   "name": "python",
   "nbconvert_exporter": "python",
   "pygments_lexer": "ipython3",
   "version": "3.10.9"
  }
 },
 "nbformat": 4,
 "nbformat_minor": 5
}
