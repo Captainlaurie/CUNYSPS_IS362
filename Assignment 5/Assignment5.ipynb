{
 "cells": [
  {
   "cell_type": "markdown",
   "id": "b5fb4337",
   "metadata": {},
   "source": [
    "## Assignment 5: Airports and Weather\n",
    "\n",
    "__Questions:__\n",
    "\n",
    "1. What is the northernmost airport in the United States? Dillant Hopkins Airport\n",
    "2. What is the easternmost airport in the United States? Adak Airport\n",
    "3. On February 12th, 2013, which New York area airport had the windiest weather? EWR, which is Newark Airport.\n",
    "\n",
    "__Process:__\n",
    "\n",
    "Import data from csv files into a pandas dataframe object\n",
    "\n",
    "wrangle data to find answers to the above questions."
   ]
  },
  {
   "cell_type": "code",
   "execution_count": 13,
   "id": "db66cad9",
   "metadata": {},
   "outputs": [
    {
     "data": {
      "text/plain": [
       "<bound method NDFrame.head of       faa                           name        lat         lon   alt  tz dst  \\\n",
       "0     04G              Lansdowne Airport  41.130472  -80.619583  1044  -5   A   \n",
       "1     06A  Moton Field Municipal Airport  32.460572  -85.680028   264  -6   A   \n",
       "2     06C            Schaumburg Regional  41.989341  -88.101243   801  -6   A   \n",
       "3     06N                Randall Airport  41.431912  -74.391561   523  -5   A   \n",
       "4     09J          Jekyll Island Airport  31.074472  -81.427778    11  -5   A   \n",
       "...   ...                            ...        ...         ...   ...  ..  ..   \n",
       "1453  ZUN                     Black Rock  35.083228 -108.791778  6454  -7   A   \n",
       "1454  ZVE         New Haven Rail Station  41.298669  -72.925992     7  -5   A   \n",
       "1455  ZWI      Wilmington Amtrak Station  39.736667  -75.551667     0  -5   A   \n",
       "1456  ZWU       Washington Union Station  38.897460  -77.006430    76  -5   A   \n",
       "1457  ZYP                   Penn Station  40.750500  -73.993500    35  -5   A   \n",
       "\n",
       "                 tzone  \n",
       "0     America/New_York  \n",
       "1      America/Chicago  \n",
       "2      America/Chicago  \n",
       "3     America/New_York  \n",
       "4     America/New_York  \n",
       "...                ...  \n",
       "1453    America/Denver  \n",
       "1454  America/New_York  \n",
       "1455  America/New_York  \n",
       "1456  America/New_York  \n",
       "1457  America/New_York  \n",
       "\n",
       "[1458 rows x 8 columns]>"
      ]
     },
     "execution_count": 13,
     "metadata": {},
     "output_type": "execute_result"
    }
   ],
   "source": [
    "import pandas as pd\n",
    "import numpy as np\n",
    "import glob\n",
    "\n",
    "#Load airports dataset\n",
    "airports_df = pd.read_csv(\"/home/lv24252260/Documents/Assignment_5/airports.csv\")\n",
    "\n",
    "#Load weather dataset\n",
    "weather_df = pd.read_csv(\"/home/lv24252260/Documents/Assignment_5/weather.csv\")\n",
    "\n",
    "#Check airports dataframe\n",
    "airports_df.head\n"
   ]
  },
  {
   "cell_type": "code",
   "execution_count": 14,
   "id": "8ca7a2fa",
   "metadata": {
    "scrolled": true
   },
   "outputs": [
    {
     "data": {
      "text/plain": [
       "<bound method NDFrame.head of       origin  year  month  day  hour   temp   dewp  humid  wind_dir  \\\n",
       "0        EWR  2013      1    1     1  39.02  26.06  59.37     270.0   \n",
       "1        EWR  2013      1    1     2  39.02  26.96  61.63     250.0   \n",
       "2        EWR  2013      1    1     3  39.02  28.04  64.43     240.0   \n",
       "3        EWR  2013      1    1     4  39.92  28.04  62.21     250.0   \n",
       "4        EWR  2013      1    1     5  39.02  28.04  64.43     260.0   \n",
       "...      ...   ...    ...  ...   ...    ...    ...    ...       ...   \n",
       "26110    LGA  2013     12   30    14  35.96  19.94  51.78     340.0   \n",
       "26111    LGA  2013     12   30    15  33.98  17.06  49.51     330.0   \n",
       "26112    LGA  2013     12   30    16  32.00  15.08  49.19     340.0   \n",
       "26113    LGA  2013     12   30    17  30.92  12.92  46.74     320.0   \n",
       "26114    LGA  2013     12   30    18  28.94  10.94  46.41     330.0   \n",
       "\n",
       "       wind_speed  wind_gust  precip  pressure  visib         time_hour  \n",
       "0        10.35702        NaN       0    1012.0     10     1/1/2013 1:00  \n",
       "1         8.05546        NaN       0    1012.3     10     1/1/2013 2:00  \n",
       "2        11.50780        NaN       0    1012.5     10     1/1/2013 3:00  \n",
       "3        12.65858        NaN       0    1012.2     10     1/1/2013 4:00  \n",
       "4        12.65858        NaN       0    1011.9     10     1/1/2013 5:00  \n",
       "...           ...        ...     ...       ...    ...               ...  \n",
       "26110    13.80936   21.86482       0    1017.1     10  12/30/2013 14:00  \n",
       "26111    17.26170   21.86482       0    1018.8     10  12/30/2013 15:00  \n",
       "26112    14.96014   23.01560       0    1019.5     10  12/30/2013 16:00  \n",
       "26113    17.26170        NaN       0    1019.9     10  12/30/2013 17:00  \n",
       "26114    18.41248        NaN       0    1020.9     10  12/30/2013 18:00  \n",
       "\n",
       "[26115 rows x 15 columns]>"
      ]
     },
     "execution_count": 14,
     "metadata": {},
     "output_type": "execute_result"
    }
   ],
   "source": [
    "#Check weather dataframe\n",
    "weather_df.head"
   ]
  },
  {
   "cell_type": "markdown",
   "id": "53212a25",
   "metadata": {},
   "source": [
    "### Question 1: What is the northernmost airport in the United States?\n",
    "\n",
    "To answer this question, we can sort the airports by latitude in descending order and then select the first airport in the sorted dataframe."
   ]
  },
  {
   "cell_type": "code",
   "execution_count": 15,
   "id": "4a9fb200",
   "metadata": {},
   "outputs": [
    {
     "name": "stdout",
     "output_type": "stream",
     "text": [
      "The northernmost airport in the United States is:  Dillant Hopkins Airport\n"
     ]
    }
   ],
   "source": [
    "# Sort the airports by latitude in descending order\n",
    "northernmost_airports = airports_df.sort_values(by='lat', ascending=False)\n",
    "\n",
    "# Select the first airport in the sorted dataframe\n",
    "northernmost_airport = northernmost_airports.iloc[0]\n",
    "\n",
    "# Print the name of the northernmost airport\n",
    "print(\"The northernmost airport in the United States is: \", northernmost_airport['name'])\n"
   ]
  },
  {
   "cell_type": "markdown",
   "id": "c31c3b79",
   "metadata": {},
   "source": [
    "### Question 2: What is the Easternmost airport in the United States?\n",
    "\n",
    "To answer this question, we can sort the airports by longitude in ascending order and then select the first airport in the sorted dataframe."
   ]
  },
  {
   "cell_type": "code",
   "execution_count": 16,
   "id": "37b9c209",
   "metadata": {},
   "outputs": [
    {
     "data": {
      "text/plain": [
       "<bound method NDFrame.head of       faa                           name        lat         lon   alt  tz dst  \\\n",
       "95    ADK                   Adak Airport  51.878000 -176.646000    18  -9   A   \n",
       "112   AKB                   Atka Airport  52.220278 -174.206389    56  -9   A   \n",
       "522   GAM                Gambell Airport  63.766800 -171.733000    27  -9   A   \n",
       "1281  SVA               Savoonga Airport  63.686400 -170.493000    53  -9   A   \n",
       "1251  SNP                 St Paul Island  57.167333 -170.220444    63  -9   A   \n",
       "...   ...                            ...        ...         ...   ...  ..  ..   \n",
       "444   EPM     Eastport Municipal Airport  44.910111  -67.012694    45  -5   A   \n",
       "417   EEN        Dillant Hopkins Airport  72.270833   42.898333   149  -5   A   \n",
       "396   DVT  Deer Valley Municipal Airport  33.411700  112.457000  1478   8   A   \n",
       "942   MYF               Montgomery Field  32.475900  117.759000    17   8   A   \n",
       "1290  SYA                   Eareckson As  52.712275  174.113620    98  -9   A   \n",
       "\n",
       "                  tzone  \n",
       "95    America/Anchorage  \n",
       "112   America/Anchorage  \n",
       "522   America/Anchorage  \n",
       "1281  America/Anchorage  \n",
       "1251  America/Anchorage  \n",
       "...                 ...  \n",
       "444    America/New_York  \n",
       "417                 NaN  \n",
       "396      Asia/Chongqing  \n",
       "942      Asia/Chongqing  \n",
       "1290  America/Anchorage  \n",
       "\n",
       "[1458 rows x 8 columns]>"
      ]
     },
     "execution_count": 16,
     "metadata": {},
     "output_type": "execute_result"
    }
   ],
   "source": [
    "# Sort the airports by longitude in ascending order\n",
    "easternmost_airports = airports_df.sort_values(by='lon', ascending=True)\n",
    "\n",
    "#Check the 5 easternmost airports in the sorted dataframe\n",
    "easternmost_airports.head"
   ]
  },
  {
   "cell_type": "code",
   "execution_count": 17,
   "id": "cda452ad",
   "metadata": {},
   "outputs": [
    {
     "name": "stdout",
     "output_type": "stream",
     "text": [
      "The easternmost airport in the United States is:  Adak Airport\n"
     ]
    }
   ],
   "source": [
    "# Select the first airport in the sorted dataframe\n",
    "easternmost_airport = easternmost_airports.iloc[0]\n",
    "\n",
    "# Print the name of the easternmost airport\n",
    "print(\"The easternmost airport in the United States is: \", easternmost_airport['name'])"
   ]
  },
  {
   "cell_type": "markdown",
   "id": "1ac60475",
   "metadata": {},
   "source": [
    "### Question 3: On February 12th, 2013, which New York area airport had the windiest weather?\n",
    "\n",
    "To answer this question, we can filter the weather data to only include New York area airports using the str.startswith() method, using the pipe symbol (|) for OR.\n",
    "\n",
    "We then sort the data by wind speed in descending order, and select the first row in the sorted dataframe."
   ]
  },
  {
   "cell_type": "code",
   "execution_count": 19,
   "id": "10cf9934",
   "metadata": {},
   "outputs": [
    {
     "name": "stdout",
     "output_type": "stream",
     "text": [
      "On February 12th, 2013, the windiest New York area airport was:  EWR\n"
     ]
    }
   ],
   "source": [
    "# Filter the weather data to only include New York area airports\n",
    "ny_weather = weather_df[weather_df['origin'].str.startswith('EWR') | weather_df['origin'].str.startswith('JFK') | weather_df['origin'].str.startswith('LGA')]\n",
    "\n",
    "# Sort the data by wind speed in descending order\n",
    "windiest_airport = ny_weather.sort_values(by='wind_speed', ascending=False).iloc[0]\n",
    "\n",
    "# Print the name of the windiest airport\n",
    "print(\"On February 12th, 2013, the windiest New York area airport was: \", windiest_airport['origin'])\n"
   ]
  },
  {
   "cell_type": "code",
   "execution_count": null,
   "id": "0afab2a2",
   "metadata": {},
   "outputs": [],
   "source": []
  }
 ],
 "metadata": {
  "kernelspec": {
   "display_name": "Python 3",
   "language": "python",
   "name": "python3"
  },
  "language_info": {
   "codemirror_mode": {
    "name": "ipython",
    "version": 3
   },
   "file_extension": ".py",
   "mimetype": "text/x-python",
   "name": "python",
   "nbconvert_exporter": "python",
   "pygments_lexer": "ipython3",
   "version": "3.8.10"
  }
 },
 "nbformat": 4,
 "nbformat_minor": 5
}
