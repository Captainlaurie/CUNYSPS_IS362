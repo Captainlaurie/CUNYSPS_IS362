{
 "cells": [
  {
   "cell_type": "markdown",
   "id": "957bc882",
   "metadata": {},
   "source": [
    "# Project #1\n",
    "\n",
    "Read data from a csv file into a pandas dataframe object, and perform analysis to compare the arrival delays for the two airlines.\n",
    "\n",
    "\n",
    "#### First, I calculated the percentage of Alaska Airlines flights that were delayed for each of the 5 destinations\n",
    "\n",
    "To do this, I imported the pandas package into a Jupyter Notebook, then told it where to find the file. \n",
    "\n",
    "To get the percentage of delays, the delayed Alaska Airlines flights were divided by the total Alaska Airlines flights times 100. The results of the division are stored in a new pandas column called _\"AlaskaDelayPct\"_ and displayed."
   ]
  },
  {
   "cell_type": "code",
   "execution_count": 22,
   "id": "d68d8f74",
   "metadata": {},
   "outputs": [
    {
     "data": {
      "text/html": [
       "<div>\n",
       "<style scoped>\n",
       "    .dataframe tbody tr th:only-of-type {\n",
       "        vertical-align: middle;\n",
       "    }\n",
       "\n",
       "    .dataframe tbody tr th {\n",
       "        vertical-align: top;\n",
       "    }\n",
       "\n",
       "    .dataframe thead th {\n",
       "        text-align: right;\n",
       "    }\n",
       "</style>\n",
       "<table border=\"1\" class=\"dataframe\">\n",
       "  <thead>\n",
       "    <tr style=\"text-align: right;\">\n",
       "      <th></th>\n",
       "      <th>Destination</th>\n",
       "      <th>Alaska_ontime</th>\n",
       "      <th>Alaska_delayed</th>\n",
       "      <th>AMWest_ontime</th>\n",
       "      <th>AMWest_delayed</th>\n",
       "    </tr>\n",
       "  </thead>\n",
       "  <tbody>\n",
       "    <tr>\n",
       "      <th>0</th>\n",
       "      <td>Los Angeles</td>\n",
       "      <td>497</td>\n",
       "      <td>62</td>\n",
       "      <td>694</td>\n",
       "      <td>117</td>\n",
       "    </tr>\n",
       "    <tr>\n",
       "      <th>1</th>\n",
       "      <td>Phoenix</td>\n",
       "      <td>221</td>\n",
       "      <td>12</td>\n",
       "      <td>4840</td>\n",
       "      <td>415</td>\n",
       "    </tr>\n",
       "    <tr>\n",
       "      <th>2</th>\n",
       "      <td>San Diego</td>\n",
       "      <td>212</td>\n",
       "      <td>20</td>\n",
       "      <td>383</td>\n",
       "      <td>65</td>\n",
       "    </tr>\n",
       "    <tr>\n",
       "      <th>3</th>\n",
       "      <td>San Francisco</td>\n",
       "      <td>503</td>\n",
       "      <td>102</td>\n",
       "      <td>320</td>\n",
       "      <td>129</td>\n",
       "    </tr>\n",
       "    <tr>\n",
       "      <th>4</th>\n",
       "      <td>Seattle</td>\n",
       "      <td>1841</td>\n",
       "      <td>305</td>\n",
       "      <td>201</td>\n",
       "      <td>61</td>\n",
       "    </tr>\n",
       "  </tbody>\n",
       "</table>\n",
       "</div>"
      ],
      "text/plain": [
       "     Destination  Alaska_ontime  Alaska_delayed  AMWest_ontime  AMWest_delayed\n",
       "0    Los Angeles            497              62            694             117\n",
       "1        Phoenix            221              12           4840             415\n",
       "2      San Diego            212              20            383              65\n",
       "3  San Francisco            503             102            320             129\n",
       "4        Seattle           1841             305            201              61"
      ]
     },
     "execution_count": 22,
     "metadata": {},
     "output_type": "execute_result"
    }
   ],
   "source": [
    "import pandas as pd\n",
    "\n",
    "#Read data from the csv file into a pandas dataframe\n",
    "\n",
    "flightsData = pd.read_csv(\"/home/lv24252260/Documents/Project1/project1data.csv\")\n",
    "\n",
    "\n",
    "#Print the data to see the rows\n",
    "\n",
    "flightsData.head()\n",
    "\n"
   ]
  },
  {
   "cell_type": "code",
   "execution_count": 23,
   "id": "2d1f9d0f",
   "metadata": {},
   "outputs": [
    {
     "data": {
      "text/plain": [
       "0    11.091234\n",
       "1     5.150215\n",
       "2     8.620690\n",
       "3    16.859504\n",
       "4    14.212488\n",
       "Name: AlaskaDelayPct, dtype: float64"
      ]
     },
     "execution_count": 23,
     "metadata": {},
     "output_type": "execute_result"
    }
   ],
   "source": [
    "#Find delay percentages for Alaska Airlines\n",
    "\n",
    "flightsData['allAlaska'] = flightsData['Alaska_ontime'] + flightsData['Alaska_delayed']\n",
    "\n",
    "flightsData['AlaskaDelayPct'] = flightsData['Alaska_delayed'] / flightsData['allAlaska'] * 100\n",
    "\n",
    "flightsData['AlaskaDelayPct']"
   ]
  },
  {
   "cell_type": "markdown",
   "id": "7445323c",
   "metadata": {},
   "source": [
    "#### Second, I did the same to find the percentage of delays for the other airline, AMWest.\n",
    "This was done in exactly the same manner using the appropriate fields. Results were stored in a new column called \"AMWDelayPct\""
   ]
  },
  {
   "cell_type": "code",
   "execution_count": 26,
   "id": "f099c1d0",
   "metadata": {},
   "outputs": [
    {
     "data": {
      "text/plain": [
       "0    14.426634\n",
       "1     7.897241\n",
       "2    14.508929\n",
       "3    28.730512\n",
       "4    23.282443\n",
       "Name: AMWDelayPct, dtype: float64"
      ]
     },
     "execution_count": 26,
     "metadata": {},
     "output_type": "execute_result"
    }
   ],
   "source": [
    "flightsData['allAMWest'] = flightsData['AMWest_ontime'] + flightsData['AMWest_delayed']\n",
    "\n",
    "flightsData['AMWDelayPct'] = flightsData['AMWest_delayed'] / flightsData['allAMWest'] * 100\n",
    "\n",
    "\n",
    "flightsData['AMWDelayPct']\n",
    "\n"
   ]
  },
  {
   "cell_type": "markdown",
   "id": "ad40cd0c",
   "metadata": {},
   "source": [
    "#### Next, we can display the delay percentages for each Airline and destination city side by side:"
   ]
  },
  {
   "cell_type": "code",
   "execution_count": 29,
   "id": "14d3ec8a",
   "metadata": {},
   "outputs": [
    {
     "data": {
      "text/html": [
       "<div>\n",
       "<style scoped>\n",
       "    .dataframe tbody tr th:only-of-type {\n",
       "        vertical-align: middle;\n",
       "    }\n",
       "\n",
       "    .dataframe tbody tr th {\n",
       "        vertical-align: top;\n",
       "    }\n",
       "\n",
       "    .dataframe thead th {\n",
       "        text-align: right;\n",
       "    }\n",
       "</style>\n",
       "<table border=\"1\" class=\"dataframe\">\n",
       "  <thead>\n",
       "    <tr style=\"text-align: right;\">\n",
       "      <th></th>\n",
       "      <th>Destination</th>\n",
       "      <th>AlaskaDelayPct</th>\n",
       "      <th>AMWDelayPct</th>\n",
       "    </tr>\n",
       "  </thead>\n",
       "  <tbody>\n",
       "    <tr>\n",
       "      <th>0</th>\n",
       "      <td>Los Angeles</td>\n",
       "      <td>11.091234</td>\n",
       "      <td>14.426634</td>\n",
       "    </tr>\n",
       "    <tr>\n",
       "      <th>1</th>\n",
       "      <td>Phoenix</td>\n",
       "      <td>5.150215</td>\n",
       "      <td>7.897241</td>\n",
       "    </tr>\n",
       "    <tr>\n",
       "      <th>2</th>\n",
       "      <td>San Diego</td>\n",
       "      <td>8.620690</td>\n",
       "      <td>14.508929</td>\n",
       "    </tr>\n",
       "    <tr>\n",
       "      <th>3</th>\n",
       "      <td>San Francisco</td>\n",
       "      <td>16.859504</td>\n",
       "      <td>28.730512</td>\n",
       "    </tr>\n",
       "    <tr>\n",
       "      <th>4</th>\n",
       "      <td>Seattle</td>\n",
       "      <td>14.212488</td>\n",
       "      <td>23.282443</td>\n",
       "    </tr>\n",
       "  </tbody>\n",
       "</table>\n",
       "</div>"
      ],
      "text/plain": [
       "     Destination  AlaskaDelayPct  AMWDelayPct\n",
       "0    Los Angeles       11.091234    14.426634\n",
       "1        Phoenix        5.150215     7.897241\n",
       "2      San Diego        8.620690    14.508929\n",
       "3  San Francisco       16.859504    28.730512\n",
       "4        Seattle       14.212488    23.282443"
      ]
     },
     "execution_count": 29,
     "metadata": {},
     "output_type": "execute_result"
    }
   ],
   "source": [
    "flightsData [['Destination', 'AlaskaDelayPct','AMWDelayPct']]"
   ]
  },
  {
   "cell_type": "markdown",
   "id": "eca7721e",
   "metadata": {},
   "source": [
    "#### We can use a for loop to iterate through the dataframe and compare the percentages, and use that to show the airline with the most delays:"
   ]
  },
  {
   "cell_type": "code",
   "execution_count": 36,
   "id": "caed4283",
   "metadata": {},
   "outputs": [
    {
     "data": {
      "text/plain": [
       "0    AMWest\n",
       "1    AMWest\n",
       "2    AMWest\n",
       "3    AMWest\n",
       "4    AMWest\n",
       "Name: Most_Delayed_Airline, dtype: object"
      ]
     },
     "execution_count": 36,
     "metadata": {},
     "output_type": "execute_result"
    }
   ],
   "source": [
    "for index, row in flightsData.iterrows():\n",
    "    if row['AlaskaDelayPct'] > row['AMWDelayPct']:\n",
    "        flightsData.loc[index, 'Most_Delayed_Airline'] = 'Alaska'\n",
    "    else:\n",
    "        flightsData.loc[index, 'Most_Delayed_Airline'] = 'AMWest'\n",
    "\n",
    "flightsData['Most_Delayed_Airline']"
   ]
  },
  {
   "cell_type": "markdown",
   "id": "b686abf2",
   "metadata": {},
   "source": [
    "#### Finally, here is our full dataframe"
   ]
  },
  {
   "cell_type": "code",
   "execution_count": 37,
   "id": "2544256d",
   "metadata": {},
   "outputs": [
    {
     "data": {
      "text/html": [
       "<div>\n",
       "<style scoped>\n",
       "    .dataframe tbody tr th:only-of-type {\n",
       "        vertical-align: middle;\n",
       "    }\n",
       "\n",
       "    .dataframe tbody tr th {\n",
       "        vertical-align: top;\n",
       "    }\n",
       "\n",
       "    .dataframe thead th {\n",
       "        text-align: right;\n",
       "    }\n",
       "</style>\n",
       "<table border=\"1\" class=\"dataframe\">\n",
       "  <thead>\n",
       "    <tr style=\"text-align: right;\">\n",
       "      <th></th>\n",
       "      <th>Destination</th>\n",
       "      <th>Alaska_ontime</th>\n",
       "      <th>Alaska_delayed</th>\n",
       "      <th>AMWest_ontime</th>\n",
       "      <th>AMWest_delayed</th>\n",
       "      <th>allAlaska</th>\n",
       "      <th>AlaskaDelayPct</th>\n",
       "      <th>allAMWest</th>\n",
       "      <th>AMWDelayPct</th>\n",
       "      <th>Most_Delayed_Airline</th>\n",
       "    </tr>\n",
       "  </thead>\n",
       "  <tbody>\n",
       "    <tr>\n",
       "      <th>0</th>\n",
       "      <td>Los Angeles</td>\n",
       "      <td>497</td>\n",
       "      <td>62</td>\n",
       "      <td>694</td>\n",
       "      <td>117</td>\n",
       "      <td>559</td>\n",
       "      <td>11.091234</td>\n",
       "      <td>811</td>\n",
       "      <td>14.426634</td>\n",
       "      <td>AMWest</td>\n",
       "    </tr>\n",
       "    <tr>\n",
       "      <th>1</th>\n",
       "      <td>Phoenix</td>\n",
       "      <td>221</td>\n",
       "      <td>12</td>\n",
       "      <td>4840</td>\n",
       "      <td>415</td>\n",
       "      <td>233</td>\n",
       "      <td>5.150215</td>\n",
       "      <td>5255</td>\n",
       "      <td>7.897241</td>\n",
       "      <td>AMWest</td>\n",
       "    </tr>\n",
       "    <tr>\n",
       "      <th>2</th>\n",
       "      <td>San Diego</td>\n",
       "      <td>212</td>\n",
       "      <td>20</td>\n",
       "      <td>383</td>\n",
       "      <td>65</td>\n",
       "      <td>232</td>\n",
       "      <td>8.620690</td>\n",
       "      <td>448</td>\n",
       "      <td>14.508929</td>\n",
       "      <td>AMWest</td>\n",
       "    </tr>\n",
       "    <tr>\n",
       "      <th>3</th>\n",
       "      <td>San Francisco</td>\n",
       "      <td>503</td>\n",
       "      <td>102</td>\n",
       "      <td>320</td>\n",
       "      <td>129</td>\n",
       "      <td>605</td>\n",
       "      <td>16.859504</td>\n",
       "      <td>449</td>\n",
       "      <td>28.730512</td>\n",
       "      <td>AMWest</td>\n",
       "    </tr>\n",
       "    <tr>\n",
       "      <th>4</th>\n",
       "      <td>Seattle</td>\n",
       "      <td>1841</td>\n",
       "      <td>305</td>\n",
       "      <td>201</td>\n",
       "      <td>61</td>\n",
       "      <td>2146</td>\n",
       "      <td>14.212488</td>\n",
       "      <td>262</td>\n",
       "      <td>23.282443</td>\n",
       "      <td>AMWest</td>\n",
       "    </tr>\n",
       "  </tbody>\n",
       "</table>\n",
       "</div>"
      ],
      "text/plain": [
       "     Destination  Alaska_ontime  Alaska_delayed  AMWest_ontime  \\\n",
       "0    Los Angeles            497              62            694   \n",
       "1        Phoenix            221              12           4840   \n",
       "2      San Diego            212              20            383   \n",
       "3  San Francisco            503             102            320   \n",
       "4        Seattle           1841             305            201   \n",
       "\n",
       "   AMWest_delayed  allAlaska  AlaskaDelayPct  allAMWest  AMWDelayPct  \\\n",
       "0             117        559       11.091234        811    14.426634   \n",
       "1             415        233        5.150215       5255     7.897241   \n",
       "2              65        232        8.620690        448    14.508929   \n",
       "3             129        605       16.859504        449    28.730512   \n",
       "4              61       2146       14.212488        262    23.282443   \n",
       "\n",
       "  Most_Delayed_Airline  \n",
       "0               AMWest  \n",
       "1               AMWest  \n",
       "2               AMWest  \n",
       "3               AMWest  \n",
       "4               AMWest  "
      ]
     },
     "execution_count": 37,
     "metadata": {},
     "output_type": "execute_result"
    }
   ],
   "source": [
    "flightsData"
   ]
  },
  {
   "cell_type": "markdown",
   "id": "30f1c408",
   "metadata": {},
   "source": [
    "### Conclusion:\n",
    "\n",
    "AM West had more delays than Alaska Airline in every city in the list, in some cases double the percentage of delayed flights. This would suggest that Alaska Airline is more reliable for passengers who need to catch connecting flights out of Los Angeles, Phoenix, San Diego, San Francisco, or Seattle, or for whom arriving on time is important."
   ]
  },
  {
   "cell_type": "code",
   "execution_count": null,
   "id": "c529049a",
   "metadata": {},
   "outputs": [],
   "source": []
  }
 ],
 "metadata": {
  "kernelspec": {
   "display_name": "Python 3",
   "language": "python",
   "name": "python3"
  },
  "language_info": {
   "codemirror_mode": {
    "name": "ipython",
    "version": 3
   },
   "file_extension": ".py",
   "mimetype": "text/x-python",
   "name": "python",
   "nbconvert_exporter": "python",
   "pygments_lexer": "ipython3",
   "version": "3.8.10"
  }
 },
 "nbformat": 4,
 "nbformat_minor": 5
}
