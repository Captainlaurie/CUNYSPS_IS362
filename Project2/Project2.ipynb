{
 "cells": [
  {
   "cell_type": "markdown",
   "id": "af497e06",
   "metadata": {},
   "source": [
    "## Project #2: Working with Untidy Data\n",
    "\n",
    "\n",
    "### Part 1: Student Test Performance Data\n",
    "\n",
    "Here we have an untidy csv file that displays test performance for 5 students on 2 exams over 3 terms."
   ]
  },
  {
   "cell_type": "code",
   "execution_count": 5,
   "id": "a42cf56f",
   "metadata": {},
   "outputs": [
    {
     "data": {
      "text/html": [
       "<div>\n",
       "<style scoped>\n",
       "    .dataframe tbody tr th:only-of-type {\n",
       "        vertical-align: middle;\n",
       "    }\n",
       "\n",
       "    .dataframe tbody tr th {\n",
       "        vertical-align: top;\n",
       "    }\n",
       "\n",
       "    .dataframe thead th {\n",
       "        text-align: right;\n",
       "    }\n",
       "</style>\n",
       "<table border=\"1\" class=\"dataframe\">\n",
       "  <thead>\n",
       "    <tr style=\"text-align: right;\">\n",
       "      <th></th>\n",
       "      <th>id</th>\n",
       "      <th>name</th>\n",
       "      <th>phone</th>\n",
       "      <th>sex and age</th>\n",
       "      <th>test number</th>\n",
       "      <th>term 1</th>\n",
       "      <th>term 2</th>\n",
       "      <th>term 3</th>\n",
       "    </tr>\n",
       "  </thead>\n",
       "  <tbody>\n",
       "    <tr>\n",
       "      <th>0</th>\n",
       "      <td>1</td>\n",
       "      <td>Mike</td>\n",
       "      <td>134</td>\n",
       "      <td>m_12</td>\n",
       "      <td>test 1</td>\n",
       "      <td>76</td>\n",
       "      <td>84</td>\n",
       "      <td>87</td>\n",
       "    </tr>\n",
       "    <tr>\n",
       "      <th>1</th>\n",
       "      <td>2</td>\n",
       "      <td>Linda</td>\n",
       "      <td>270</td>\n",
       "      <td>f_13</td>\n",
       "      <td>test 1</td>\n",
       "      <td>88</td>\n",
       "      <td>90</td>\n",
       "      <td>79</td>\n",
       "    </tr>\n",
       "    <tr>\n",
       "      <th>2</th>\n",
       "      <td>3</td>\n",
       "      <td>Sam</td>\n",
       "      <td>210</td>\n",
       "      <td>m_11</td>\n",
       "      <td>test 1</td>\n",
       "      <td>78</td>\n",
       "      <td>74</td>\n",
       "      <td>80</td>\n",
       "    </tr>\n",
       "    <tr>\n",
       "      <th>3</th>\n",
       "      <td>4</td>\n",
       "      <td>Esther</td>\n",
       "      <td>617</td>\n",
       "      <td>f_12</td>\n",
       "      <td>test 1</td>\n",
       "      <td>68</td>\n",
       "      <td>75</td>\n",
       "      <td>74</td>\n",
       "    </tr>\n",
       "    <tr>\n",
       "      <th>4</th>\n",
       "      <td>5</td>\n",
       "      <td>Mary</td>\n",
       "      <td>114</td>\n",
       "      <td>f_14</td>\n",
       "      <td>test 1</td>\n",
       "      <td>65</td>\n",
       "      <td>67</td>\n",
       "      <td>64</td>\n",
       "    </tr>\n",
       "  </tbody>\n",
       "</table>\n",
       "</div>"
      ],
      "text/plain": [
       "   id    name  phone sex and age test number  term 1  term 2  term 3\n",
       "0   1    Mike    134        m_12      test 1      76      84      87\n",
       "1   2   Linda    270        f_13      test 1      88      90      79\n",
       "2   3     Sam    210        m_11      test 1      78      74      80\n",
       "3   4  Esther    617        f_12      test 1      68      75      74\n",
       "4   5    Mary    114        f_14      test 1      65      67      64"
      ]
     },
     "execution_count": 5,
     "metadata": {},
     "output_type": "execute_result"
    }
   ],
   "source": [
    "import pandas as pd\n",
    "\n",
    "#read in untidy data csv as a pandas dataframe object\n",
    "student_testing_df = pd.read_csv('/home/lv24252260/Documents/Project2/untidy_data_student_tests.csv')\n",
    "\n",
    "#read first 5 rows to check that dataframe was created\n",
    "student_testing_df.head()"
   ]
  },
  {
   "cell_type": "markdown",
   "id": "e567196a",
   "metadata": {},
   "source": [
    "We can see that there are several problems with this data. The data is not sorted in a way that makes sense. The students are repeated twice in the column (once for each test), the sex and age of the students is in a single column separated by and underscore instead of in two separate columns.\n",
    "\n",
    "The best way to approach this is to split the data into two separate dataframe objects with pandas: one for the students, and one for the test data. We can use the ID number as the relational primary/foreign key."
   ]
  },
  {
   "cell_type": "code",
   "execution_count": 7,
   "id": "1ad494a2",
   "metadata": {},
   "outputs": [
    {
     "data": {
      "text/html": [
       "<div>\n",
       "<style scoped>\n",
       "    .dataframe tbody tr th:only-of-type {\n",
       "        vertical-align: middle;\n",
       "    }\n",
       "\n",
       "    .dataframe tbody tr th {\n",
       "        vertical-align: top;\n",
       "    }\n",
       "\n",
       "    .dataframe thead th {\n",
       "        text-align: right;\n",
       "    }\n",
       "</style>\n",
       "<table border=\"1\" class=\"dataframe\">\n",
       "  <thead>\n",
       "    <tr style=\"text-align: right;\">\n",
       "      <th></th>\n",
       "      <th>id</th>\n",
       "      <th>name</th>\n",
       "      <th>phone</th>\n",
       "      <th>Sex</th>\n",
       "      <th>Age</th>\n",
       "    </tr>\n",
       "  </thead>\n",
       "  <tbody>\n",
       "    <tr>\n",
       "      <th>0</th>\n",
       "      <td>1</td>\n",
       "      <td>Mike</td>\n",
       "      <td>134</td>\n",
       "      <td>m</td>\n",
       "      <td>12</td>\n",
       "    </tr>\n",
       "    <tr>\n",
       "      <th>1</th>\n",
       "      <td>2</td>\n",
       "      <td>Linda</td>\n",
       "      <td>270</td>\n",
       "      <td>f</td>\n",
       "      <td>13</td>\n",
       "    </tr>\n",
       "    <tr>\n",
       "      <th>2</th>\n",
       "      <td>3</td>\n",
       "      <td>Sam</td>\n",
       "      <td>210</td>\n",
       "      <td>m</td>\n",
       "      <td>11</td>\n",
       "    </tr>\n",
       "    <tr>\n",
       "      <th>3</th>\n",
       "      <td>4</td>\n",
       "      <td>Esther</td>\n",
       "      <td>617</td>\n",
       "      <td>f</td>\n",
       "      <td>12</td>\n",
       "    </tr>\n",
       "    <tr>\n",
       "      <th>4</th>\n",
       "      <td>5</td>\n",
       "      <td>Mary</td>\n",
       "      <td>114</td>\n",
       "      <td>f</td>\n",
       "      <td>14</td>\n",
       "    </tr>\n",
       "  </tbody>\n",
       "</table>\n",
       "</div>"
      ],
      "text/plain": [
       "   id    name  phone Sex Age\n",
       "0   1    Mike    134   m  12\n",
       "1   2   Linda    270   f  13\n",
       "2   3     Sam    210   m  11\n",
       "3   4  Esther    617   f  12\n",
       "4   5    Mary    114   f  14"
      ]
     },
     "execution_count": 7,
     "metadata": {},
     "output_type": "execute_result"
    }
   ],
   "source": [
    "#split the dataframe into two separate tables, one for students and one for the grades\n",
    "students_df = student_testing_df[['id', 'name', 'phone', 'sex and age']].copy() # make a copy to avoid warning\n",
    "test_grades_df = student_testing_df[['id', 'test number', 'term 1', 'term 2', 'term 3']]\n",
    "\n",
    "# Split single column into two columns\n",
    "students_df[['Sex', 'Age']] = students_df['sex and age'].str.split(\"_\", expand=True)\n",
    "\n",
    "# modify original dataframe using .loc accessor\n",
    "students_df.loc[:, ['Sex', 'Age']] = students_df[['Sex', 'Age']]\n",
    "\n",
    "# drop the original 'sex and age' column\n",
    "students_df.drop('sex and age', axis=1, inplace=True)\n",
    "\n",
    "#Check the dataframe\n",
    "students_df.head()"
   ]
  },
  {
   "cell_type": "code",
   "execution_count": 9,
   "id": "1e8e8632",
   "metadata": {},
   "outputs": [
    {
     "name": "stdout",
     "output_type": "stream",
     "text": [
      "   id test number  term 1  term 2  term 3\n",
      "0   1      test 1      76      84      87\n",
      "1   2      test 1      88      90      79\n",
      "2   3      test 1      78      74      80\n",
      "3   4      test 1      68      75      74\n",
      "4   5      test 1      65      67      64\n",
      "5   1      test 2      85      80      90\n",
      "6   2      test 2      87      82      94\n",
      "7   3      test 2      80      87      80\n",
      "8   4      test 2      70      75      78\n",
      "9   5      test 2      68      70      63\n"
     ]
    }
   ],
   "source": [
    "#Since the Test Grades dataframe isn't very large, we can print the whole thing to see the data\n",
    "print(test_grades_df)"
   ]
  },
  {
   "cell_type": "markdown",
   "id": "07e22d9c",
   "metadata": {},
   "source": [
    "The test grades dataframe is in a wide format. We can change it to a long format, which is more computer-friendly. We do this using the melt() function in pandas. The id and test number are kept as variables and the term columns are melted into a single column called \"term.\" The corresponding test score values are also arranged into single column called \"score.\""
   ]
  },
  {
   "cell_type": "code",
   "execution_count": 10,
   "id": "412af4d8",
   "metadata": {},
   "outputs": [],
   "source": [
    "tidy_grades_df = test_grades_df.melt(id_vars=['id', 'test number'], value_vars=['term 1', 'term 2', 'term 3'], var_name='term', value_name='score')\n"
   ]
  },
  {
   "cell_type": "code",
   "execution_count": 12,
   "id": "fd16a813",
   "metadata": {},
   "outputs": [
    {
     "name": "stdout",
     "output_type": "stream",
     "text": [
      "    id test number    term  score\n",
      "0    1      test 1  term 1     76\n",
      "1    2      test 1  term 1     88\n",
      "2    3      test 1  term 1     78\n",
      "3    4      test 1  term 1     68\n",
      "4    5      test 1  term 1     65\n",
      "5    1      test 2  term 1     85\n",
      "6    2      test 2  term 1     87\n",
      "7    3      test 2  term 1     80\n",
      "8    4      test 2  term 1     70\n",
      "9    5      test 2  term 1     68\n",
      "10   1      test 1  term 2     84\n",
      "11   2      test 1  term 2     90\n",
      "12   3      test 1  term 2     74\n",
      "13   4      test 1  term 2     75\n",
      "14   5      test 1  term 2     67\n",
      "15   1      test 2  term 2     80\n",
      "16   2      test 2  term 2     82\n",
      "17   3      test 2  term 2     87\n",
      "18   4      test 2  term 2     75\n",
      "19   5      test 2  term 2     70\n",
      "20   1      test 1  term 3     87\n",
      "21   2      test 1  term 3     79\n",
      "22   3      test 1  term 3     80\n",
      "23   4      test 1  term 3     74\n",
      "24   5      test 1  term 3     64\n",
      "25   1      test 2  term 3     90\n",
      "26   2      test 2  term 3     94\n",
      "27   3      test 2  term 3     80\n",
      "28   4      test 2  term 3     78\n",
      "29   5      test 2  term 3     63\n"
     ]
    }
   ],
   "source": [
    "#now we have a long format dataframe for test grades:\n",
    "print(tidy_grades_df)"
   ]
  },
  {
   "cell_type": "markdown",
   "id": "2a20e5f2",
   "metadata": {},
   "source": [
    "## Part 2: Population Data\n",
    "\n"
   ]
  }
 ],
 "metadata": {
  "kernelspec": {
   "display_name": "Python 3",
   "language": "python",
   "name": "python3"
  },
  "language_info": {
   "codemirror_mode": {
    "name": "ipython",
    "version": 3
   },
   "file_extension": ".py",
   "mimetype": "text/x-python",
   "name": "python",
   "nbconvert_exporter": "python",
   "pygments_lexer": "ipython3",
   "version": "3.8.10"
  }
 },
 "nbformat": 4,
 "nbformat_minor": 5
}
